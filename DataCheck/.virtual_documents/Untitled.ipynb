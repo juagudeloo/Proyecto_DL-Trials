import pandas as pd
import matplotlib.pyplot as plt
import numpy as np


df = pd.read_csv("max_min_values.csv", index_col = "index").drop(columns = "Unnamed: 0")






df


df["max_mean"].apply(lambda x: np.log10(x))
