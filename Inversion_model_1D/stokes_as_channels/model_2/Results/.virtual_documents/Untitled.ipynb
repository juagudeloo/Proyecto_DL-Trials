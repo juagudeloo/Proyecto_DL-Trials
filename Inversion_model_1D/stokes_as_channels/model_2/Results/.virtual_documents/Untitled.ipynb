import numpy as np
import matplotlib.pyplot as plt


train_loss = np.load("3E_0.0001lr/loss_metrics/train_loss_history3E_0.0001lr.npy")


train_loss.shape


plt.plot(range(6), train_loss)
