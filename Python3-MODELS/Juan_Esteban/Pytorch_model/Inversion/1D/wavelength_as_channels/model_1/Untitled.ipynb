{
 "cells": [
  {
   "cell_type": "code",
   "execution_count": 1,
   "id": "167da163-fbe8-4de7-8911-bfcd2c506eaf",
   "metadata": {},
   "outputs": [
    {
     "name": "stdout",
     "output_type": "stream",
     "text": [
      "Collecting torchviz\n",
      "  Downloading torchviz-0.0.2.tar.gz (4.9 kB)\n",
      "  Preparing metadata (setup.py) ... \u001b[?25ldone\n",
      "\u001b[?25hRequirement already satisfied: torch in /home/juanessao2000/anaconda3/lib/python3.11/site-packages (from torchviz) (2.2.2)\n",
      "Collecting graphviz (from torchviz)\n",
      "  Obtaining dependency information for graphviz from https://files.pythonhosted.org/packages/00/be/d59db2d1d52697c6adc9eacaf50e8965b6345cc143f671e1ed068818d5cf/graphviz-0.20.3-py3-none-any.whl.metadata\n",
      "  Downloading graphviz-0.20.3-py3-none-any.whl.metadata (12 kB)\n",
      "Requirement already satisfied: filelock in /home/juanessao2000/anaconda3/lib/python3.11/site-packages (from torch->torchviz) (3.13.1)\n",
      "Requirement already satisfied: typing-extensions>=4.8.0 in /home/juanessao2000/anaconda3/lib/python3.11/site-packages (from torch->torchviz) (4.10.0)\n",
      "Requirement already satisfied: sympy in /home/juanessao2000/anaconda3/lib/python3.11/site-packages (from torch->torchviz) (1.12)\n",
      "Requirement already satisfied: networkx in /home/juanessao2000/anaconda3/lib/python3.11/site-packages (from torch->torchviz) (3.1)\n",
      "Requirement already satisfied: jinja2 in /home/juanessao2000/anaconda3/lib/python3.11/site-packages (from torch->torchviz) (3.1.3)\n",
      "Requirement already satisfied: fsspec in /home/juanessao2000/anaconda3/lib/python3.11/site-packages (from torch->torchviz) (2023.10.0)\n",
      "Requirement already satisfied: nvidia-cuda-nvrtc-cu12==12.1.105 in /home/juanessao2000/anaconda3/lib/python3.11/site-packages (from torch->torchviz) (12.1.105)\n",
      "Requirement already satisfied: nvidia-cuda-runtime-cu12==12.1.105 in /home/juanessao2000/anaconda3/lib/python3.11/site-packages (from torch->torchviz) (12.1.105)\n",
      "Requirement already satisfied: nvidia-cuda-cupti-cu12==12.1.105 in /home/juanessao2000/anaconda3/lib/python3.11/site-packages (from torch->torchviz) (12.1.105)\n",
      "Requirement already satisfied: nvidia-cudnn-cu12==8.9.2.26 in /home/juanessao2000/anaconda3/lib/python3.11/site-packages (from torch->torchviz) (8.9.2.26)\n",
      "Requirement already satisfied: nvidia-cublas-cu12==12.1.3.1 in /home/juanessao2000/anaconda3/lib/python3.11/site-packages (from torch->torchviz) (12.1.3.1)\n",
      "Requirement already satisfied: nvidia-cufft-cu12==11.0.2.54 in /home/juanessao2000/anaconda3/lib/python3.11/site-packages (from torch->torchviz) (11.0.2.54)\n",
      "Requirement already satisfied: nvidia-curand-cu12==10.3.2.106 in /home/juanessao2000/anaconda3/lib/python3.11/site-packages (from torch->torchviz) (10.3.2.106)\n",
      "Requirement already satisfied: nvidia-cusolver-cu12==11.4.5.107 in /home/juanessao2000/anaconda3/lib/python3.11/site-packages (from torch->torchviz) (11.4.5.107)\n",
      "Requirement already satisfied: nvidia-cusparse-cu12==12.1.0.106 in /home/juanessao2000/anaconda3/lib/python3.11/site-packages (from torch->torchviz) (12.1.0.106)\n",
      "Requirement already satisfied: nvidia-nccl-cu12==2.19.3 in /home/juanessao2000/anaconda3/lib/python3.11/site-packages (from torch->torchviz) (2.19.3)\n",
      "Requirement already satisfied: nvidia-nvtx-cu12==12.1.105 in /home/juanessao2000/anaconda3/lib/python3.11/site-packages (from torch->torchviz) (12.1.105)\n",
      "Requirement already satisfied: triton==2.2.0 in /home/juanessao2000/anaconda3/lib/python3.11/site-packages (from torch->torchviz) (2.2.0)\n",
      "Requirement already satisfied: nvidia-nvjitlink-cu12 in /home/juanessao2000/anaconda3/lib/python3.11/site-packages (from nvidia-cusolver-cu12==11.4.5.107->torch->torchviz) (12.4.99)\n",
      "Requirement already satisfied: MarkupSafe>=2.0 in /home/juanessao2000/anaconda3/lib/python3.11/site-packages (from jinja2->torch->torchviz) (2.1.3)\n",
      "Requirement already satisfied: mpmath>=0.19 in /home/juanessao2000/anaconda3/lib/python3.11/site-packages (from sympy->torch->torchviz) (1.3.0)\n",
      "Downloading graphviz-0.20.3-py3-none-any.whl (47 kB)\n",
      "\u001b[2K   \u001b[38;2;114;156;31m━━━━━━━━━━━━━━━━━━━━━━━━━━━━━━━━━━━━━━━━\u001b[0m \u001b[32m47.1/47.1 kB\u001b[0m \u001b[31m315.8 kB/s\u001b[0m eta \u001b[36m0:00:00\u001b[0mMB/s\u001b[0m eta \u001b[36m0:00:01\u001b[0m\n",
      "\u001b[?25hBuilding wheels for collected packages: torchviz\n",
      "  Building wheel for torchviz (setup.py) ... \u001b[?25ldone\n",
      "\u001b[?25h  Created wheel for torchviz: filename=torchviz-0.0.2-py3-none-any.whl size=4132 sha256=38de05a173f2ad425a3ecee1265524b88f93cf634776a50e2634af89c2f5b35f\n",
      "  Stored in directory: /home/juanessao2000/.cache/pip/wheels/5a/d0/3f/b7014553eb74f12892b7d9b69c6083044564712d10fde8dfdc\n",
      "Successfully built torchviz\n",
      "Installing collected packages: graphviz, torchviz\n",
      "Successfully installed graphviz-0.20.3 torchviz-0.0.2\n"
     ]
    }
   ],
   "source": [
    "!pip install torchviz\n",
    "!pip install graphviz"
   ]
  },
  {
   "cell_type": "code",
   "execution_count": 4,
   "id": "d4fa1f26-f901-4227-aa2b-e1b970374662",
   "metadata": {},
   "outputs": [
    {
     "name": "stdout",
     "output_type": "stream",
     "text": [
      "The model will be run on: cuda\n"
     ]
    },
    {
     "data": {
      "text/plain": [
       "'InvModel1_graph_torchviz.png'"
      ]
     },
     "execution_count": 4,
     "metadata": {},
     "output_type": "execute_result"
    }
   ],
   "source": [
    "import torch\n",
    "import torch.nn as nn\n",
    "import torch.optim as optim\n",
    "from torchviz import make_dot\n",
    "\n",
    "class InvModel1(nn.Module):\n",
    "    def __init__(self, in_shape, out_shape, hidden_units):\n",
    "        super().__init__()\n",
    "        padding = 1\n",
    "        self.simple_conv = nn.Sequential(\n",
    "            nn.Conv1d(in_channels=in_shape, out_channels=600, kernel_size=2, stride=1, padding=padding),\n",
    "            nn.ReLU(),\n",
    "            nn.Conv1d(in_channels=600, out_channels=1200, kernel_size=2, stride=1, padding=padding),\n",
    "            nn.ReLU(),\n",
    "            nn.Conv1d(in_channels=1200, out_channels=2400, kernel_size=2, stride=1, padding=padding),\n",
    "            nn.ReLU(),\n",
    "            nn.Conv1d(in_channels=2400, out_channels=4800, kernel_size=2, stride=1, padding=padding),\n",
    "            nn.ReLU(),\n",
    "            nn.Flatten(),\n",
    "            nn.Dropout(p=0.5, inplace=False),\n",
    "            nn.Linear(in_features=326400, out_features=out_shape)\n",
    "        )\n",
    "        \n",
    "    def forward(self, x):\n",
    "        return self.simple_conv(x)\n",
    "\n",
    "# Instantiate the model\n",
    "model_0 = InvModel1(300, 4*20, 4096).float()\n",
    "\n",
    "# Define the device\n",
    "device = \"cuda\" if torch.cuda.is_available() else \"cpu\"\n",
    "print(\"The model will be run on:\", device)\n",
    "\n",
    "# Move the model to the appropriate device\n",
    "model_0.to(device)\n",
    "\n",
    "# Create a dummy input tensor with the correct shape (batch_size, in_channels, sequence_length)\n",
    "dummy_input = torch.randn(80, 300, 64).to(device)\n",
    "\n",
    "# Define the optimizer and loss function\n",
    "optimizer = optim.Adam(model_0.parameters(), lr=1e-4)\n",
    "loss_fn = nn.MSELoss()\n",
    "\n",
    "# Forward pass to create a graph\n",
    "output = model_0(dummy_input)\n",
    "\n",
    "# Create a visualization of the model\n",
    "dot = make_dot(output, params=dict(model_0.named_parameters()), show_attrs=True, show_saved=True)\n",
    "\n",
    "# Save the visualization to a file\n",
    "dot.format = 'png'\n",
    "file_path = 'InvModel1_graph_torchviz'\n",
    "dot.render(file_path)"
   ]
  },
  {
   "cell_type": "code",
   "execution_count": 6,
   "id": "e70ea2d9-3a22-49ea-ad4e-d7fae12831f9",
   "metadata": {},
   "outputs": [
    {
     "data": {
      "text/plain": [
       "'InvModel1_graph.png'"
      ]
     },
     "execution_count": 6,
     "metadata": {},
     "output_type": "execute_result"
    }
   ],
   "source": [
    "import torch\n",
    "import torch.nn as nn\n",
    "from graphviz import Digraph\n",
    "\n",
    "class InvModel1(nn.Module):\n",
    "    def __init__(self, in_shape, out_shape, hidden_units):\n",
    "        super().__init__()\n",
    "        padding = 1\n",
    "        self.simple_conv = nn.Sequential(\n",
    "            nn.Conv1d(in_channels=in_shape, out_channels=600, kernel_size=2, stride=1, padding=padding),\n",
    "            nn.ReLU(),\n",
    "            nn.Conv1d(in_channels=600, out_channels=1200, kernel_size=2, stride=1, padding=padding),\n",
    "            nn.ReLU(),\n",
    "            nn.Conv1d(in_channels=1200, out_channels=2400, kernel_size=2, stride=1, padding=padding),\n",
    "            nn.ReLU(),\n",
    "            nn.Conv1d(in_channels=2400, out_channels=4800, kernel_size=2, stride=1, padding=padding),\n",
    "            nn.ReLU(),\n",
    "            nn.Flatten(),\n",
    "            nn.Dropout(p=0.5, inplace=False),\n",
    "            nn.Linear(in_features=38400, out_features=out_shape)\n",
    "        )\n",
    "        \n",
    "    def forward(self, x):\n",
    "        return self.simple_conv(x)\n",
    "\n",
    "# Instantiate the model\n",
    "model_0 = InvModel1(300, 4*20, 4096).float()\n",
    "\n",
    "# Visualize the model using graphviz\n",
    "def visualize_model(model):\n",
    "    dot = Digraph()\n",
    "    dot.node(name='input', label='Input Layer')\n",
    "\n",
    "    for idx, layer in enumerate(model.simple_conv):\n",
    "        if isinstance(layer, nn.Conv1d):\n",
    "            dot.node(name=f'conv{idx}', label=f'Conv1D\\n{layer.in_channels} -> {layer.out_channels}')\n",
    "            dot.edge(f'conv{idx-1}' if idx > 0 else 'input', f'conv{idx}')\n",
    "        elif isinstance(layer, nn.ReLU):\n",
    "            dot.node(name=f'relu{idx}', label='ReLU')\n",
    "            dot.edge(f'conv{idx-1}', f'relu{idx}')\n",
    "        elif isinstance(layer, nn.Flatten):\n",
    "            dot.node(name='flatten', label='Flatten')\n",
    "            dot.edge(f'relu{idx-1}', 'flatten')\n",
    "        elif isinstance(layer, nn.Dropout):\n",
    "            dot.node(name='dropout', label='Dropout')\n",
    "            dot.edge('flatten', 'dropout')\n",
    "        elif isinstance(layer, nn.Linear):\n",
    "            dot.node(name='linear', label=f'Linear\\n{layer.in_features} -> {layer.out_features}')\n",
    "            dot.edge('dropout', 'linear')\n",
    "\n",
    "    dot.node(name='output', label='Output Layer')\n",
    "    dot.edge('linear', 'output')\n",
    "\n",
    "    return dot\n",
    "\n",
    "# Generate and save the visualization\n",
    "dot = visualize_model(model_0)\n",
    "dot.format = 'png'\n",
    "file_path = 'InvModel1_graph'\n",
    "dot.render(file_path)\n",
    "\n",
    "file_path + '.png'"
   ]
  }
 ],
 "metadata": {
  "kernelspec": {
   "display_name": "Python 3 (ipykernel)",
   "language": "python",
   "name": "python3"
  },
  "language_info": {
   "codemirror_mode": {
    "name": "ipython",
    "version": 3
   },
   "file_extension": ".py",
   "mimetype": "text/x-python",
   "name": "python",
   "nbconvert_exporter": "python",
   "pygments_lexer": "ipython3",
   "version": "3.11.5"
  }
 },
 "nbformat": 4,
 "nbformat_minor": 5
}
