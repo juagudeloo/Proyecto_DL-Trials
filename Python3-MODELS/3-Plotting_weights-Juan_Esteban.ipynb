{
 "cells": [
  {
   "cell_type": "code",
   "execution_count": null,
   "metadata": {},
   "outputs": [],
   "source": [
    "import numpy as np\n",
    "import matplotlib.pyplot as plt\n",
    "from mpl_toolkits.axes_grid1 import make_axes_locatable\n",
    "from astropy.nddata.utils import Cutout2D\n",
    "import matplotlib.cm as cm\n",
    "import matplotlib as mpl\n",
    "import astropy.units as u\n",
    "from collections import Counter\n",
    "import numpy as np \n",
    "from keras.models import Sequential #sequential model of layers, as the one \n",
    "#explained in this part of the book\n",
    "from keras.layers.core import Dense, Activation\n",
    "from sklearn.preprocessing import MinMaxScaler\n",
    "import tensorflow as tf\n",
    "import time\n",
    "import tensorflow as tf\n",
    "from keras.layers import Input, Dense, concatenate\n",
    "from keras.models import Model\n",
    "from tensorflow import keras\n",
    "from sklearn.preprocessing import MinMaxScaler"
   ]
  }
 ],
 "metadata": {
  "kernelspec": {
   "display_name": "Python 3",
   "language": "python",
   "name": "python3"
  },
  "language_info": {
   "codemirror_mode": {
    "name": "ipython",
    "version": 3
   },
   "file_extension": ".py",
   "mimetype": "text/x-python",
   "name": "python",
   "nbconvert_exporter": "python",
   "pygments_lexer": "ipython3",
   "version": "3.8.5"
  }
 },
 "nbformat": 4,
 "nbformat_minor": 4
}
